{
 "cells": [
  {
   "cell_type": "code",
   "execution_count": 3,
   "id": "28783dde",
   "metadata": {},
   "outputs": [],
   "source": [
    "import pandas as pd \n",
    "import numpy as np\n",
    "from numpy import percentile\n",
    "import matplotlib.pyplot as plt\n",
    "import seaborn as sns\n",
    "import warnings\n",
    "from datetime import datetime\n",
    "\n",
    "%matplotlib inline\n",
    "warnings.filterwarnings('ignore')\n",
    "\n",
    "pd.set_option('display.max_columns', 50)\n",
    "pd.set_option('display.float_format', None)"
   ]
  },
  {
   "cell_type": "code",
   "execution_count": 50,
   "id": "9083cdc3",
   "metadata": {},
   "outputs": [
    {
     "name": "stdout",
     "output_type": "stream",
     "text": [
      "<class 'pandas.core.frame.DataFrame'>\n",
      "RangeIndex: 1048567 entries, 0 to 1048566\n",
      "Data columns (total 9 columns):\n",
      " #   Column                   Non-Null Count    Dtype  \n",
      "---  ------                   --------------    -----  \n",
      " 0   TransactionID            1048567 non-null  object \n",
      " 1   CustomerID               1048567 non-null  object \n",
      " 2   CustomerDOB              1045170 non-null  object \n",
      " 3   CustGender               1047467 non-null  object \n",
      " 4   CustLocation             1048416 non-null  object \n",
      " 5   CustAccountBalance       1046198 non-null  float64\n",
      " 6   TransactionDate          1048567 non-null  object \n",
      " 7   TransactionTime          1048567 non-null  int64  \n",
      " 8   TransactionAmount (INR)  1048567 non-null  float64\n",
      "dtypes: float64(2), int64(1), object(6)\n",
      "memory usage: 72.0+ MB\n"
     ]
    }
   ],
   "source": [
    "df = pd.read_csv(r'C:\\Users\\kshiti.sinha\\Desktop\\projects\\prof\\bank_transactions.csv\\bank_transactions.csv')\n",
    "df.info()"
   ]
  },
  {
   "cell_type": "code",
   "execution_count": null,
   "id": "cf06d548",
   "metadata": {},
   "outputs": [],
   "source": [
    "#Data Exploration and Cleaning"
   ]
  },
  {
   "cell_type": "code",
   "execution_count": 5,
   "id": "fa1e30ac",
   "metadata": {},
   "outputs": [
    {
     "data": {
      "text/html": [
       "<div>\n",
       "<style scoped>\n",
       "    .dataframe tbody tr th:only-of-type {\n",
       "        vertical-align: middle;\n",
       "    }\n",
       "\n",
       "    .dataframe tbody tr th {\n",
       "        vertical-align: top;\n",
       "    }\n",
       "\n",
       "    .dataframe thead th {\n",
       "        text-align: right;\n",
       "    }\n",
       "</style>\n",
       "<table border=\"1\" class=\"dataframe\">\n",
       "  <thead>\n",
       "    <tr style=\"text-align: right;\">\n",
       "      <th></th>\n",
       "      <th>CustAccountBalance</th>\n",
       "      <th>TransactionTime</th>\n",
       "      <th>TransactionAmount (INR)</th>\n",
       "    </tr>\n",
       "  </thead>\n",
       "  <tbody>\n",
       "    <tr>\n",
       "      <th>count</th>\n",
       "      <td>1.046198e+06</td>\n",
       "      <td>1.048567e+06</td>\n",
       "      <td>1.048567e+06</td>\n",
       "    </tr>\n",
       "    <tr>\n",
       "      <th>mean</th>\n",
       "      <td>1.154035e+05</td>\n",
       "      <td>1.570875e+05</td>\n",
       "      <td>1.574335e+03</td>\n",
       "    </tr>\n",
       "    <tr>\n",
       "      <th>std</th>\n",
       "      <td>8.464854e+05</td>\n",
       "      <td>5.126185e+04</td>\n",
       "      <td>6.574743e+03</td>\n",
       "    </tr>\n",
       "    <tr>\n",
       "      <th>min</th>\n",
       "      <td>0.000000e+00</td>\n",
       "      <td>0.000000e+00</td>\n",
       "      <td>0.000000e+00</td>\n",
       "    </tr>\n",
       "    <tr>\n",
       "      <th>25%</th>\n",
       "      <td>4.721760e+03</td>\n",
       "      <td>1.240300e+05</td>\n",
       "      <td>1.610000e+02</td>\n",
       "    </tr>\n",
       "    <tr>\n",
       "      <th>50%</th>\n",
       "      <td>1.679218e+04</td>\n",
       "      <td>1.642260e+05</td>\n",
       "      <td>4.590300e+02</td>\n",
       "    </tr>\n",
       "    <tr>\n",
       "      <th>75%</th>\n",
       "      <td>5.765736e+04</td>\n",
       "      <td>2.000100e+05</td>\n",
       "      <td>1.200000e+03</td>\n",
       "    </tr>\n",
       "    <tr>\n",
       "      <th>max</th>\n",
       "      <td>1.150355e+08</td>\n",
       "      <td>2.359590e+05</td>\n",
       "      <td>1.560035e+06</td>\n",
       "    </tr>\n",
       "  </tbody>\n",
       "</table>\n",
       "</div>"
      ],
      "text/plain": [
       "       CustAccountBalance  TransactionTime  TransactionAmount (INR)\n",
       "count        1.046198e+06     1.048567e+06             1.048567e+06\n",
       "mean         1.154035e+05     1.570875e+05             1.574335e+03\n",
       "std          8.464854e+05     5.126185e+04             6.574743e+03\n",
       "min          0.000000e+00     0.000000e+00             0.000000e+00\n",
       "25%          4.721760e+03     1.240300e+05             1.610000e+02\n",
       "50%          1.679218e+04     1.642260e+05             4.590300e+02\n",
       "75%          5.765736e+04     2.000100e+05             1.200000e+03\n",
       "max          1.150355e+08     2.359590e+05             1.560035e+06"
      ]
     },
     "execution_count": 5,
     "metadata": {},
     "output_type": "execute_result"
    }
   ],
   "source": [
    "df.describe()"
   ]
  },
  {
   "cell_type": "code",
   "execution_count": null,
   "id": "fdd14d83",
   "metadata": {},
   "outputs": [],
   "source": []
  },
  {
   "cell_type": "code",
   "execution_count": 6,
   "id": "31a9ea15",
   "metadata": {},
   "outputs": [
    {
     "data": {
      "text/html": [
       "<div>\n",
       "<style scoped>\n",
       "    .dataframe tbody tr th:only-of-type {\n",
       "        vertical-align: middle;\n",
       "    }\n",
       "\n",
       "    .dataframe tbody tr th {\n",
       "        vertical-align: top;\n",
       "    }\n",
       "\n",
       "    .dataframe thead th {\n",
       "        text-align: right;\n",
       "    }\n",
       "</style>\n",
       "<table border=\"1\" class=\"dataframe\">\n",
       "  <thead>\n",
       "    <tr style=\"text-align: right;\">\n",
       "      <th></th>\n",
       "      <th>TransactionID</th>\n",
       "      <th>CustomerID</th>\n",
       "      <th>CustomerDOB</th>\n",
       "      <th>CustGender</th>\n",
       "      <th>CustLocation</th>\n",
       "      <th>CustAccountBalance</th>\n",
       "      <th>TransactionDate</th>\n",
       "      <th>TransactionTime</th>\n",
       "      <th>TransactionAmount (INR)</th>\n",
       "    </tr>\n",
       "  </thead>\n",
       "  <tbody>\n",
       "    <tr>\n",
       "      <th>0</th>\n",
       "      <td>T1</td>\n",
       "      <td>C5841053</td>\n",
       "      <td>10/1/94</td>\n",
       "      <td>F</td>\n",
       "      <td>JAMSHEDPUR</td>\n",
       "      <td>17819.05</td>\n",
       "      <td>2/8/16</td>\n",
       "      <td>143207</td>\n",
       "      <td>25.0</td>\n",
       "    </tr>\n",
       "    <tr>\n",
       "      <th>1</th>\n",
       "      <td>T2</td>\n",
       "      <td>C2142763</td>\n",
       "      <td>4/4/57</td>\n",
       "      <td>M</td>\n",
       "      <td>JHAJJAR</td>\n",
       "      <td>2270.69</td>\n",
       "      <td>2/8/16</td>\n",
       "      <td>141858</td>\n",
       "      <td>27999.0</td>\n",
       "    </tr>\n",
       "    <tr>\n",
       "      <th>2</th>\n",
       "      <td>T3</td>\n",
       "      <td>C4417068</td>\n",
       "      <td>26/11/96</td>\n",
       "      <td>F</td>\n",
       "      <td>MUMBAI</td>\n",
       "      <td>17874.44</td>\n",
       "      <td>2/8/16</td>\n",
       "      <td>142712</td>\n",
       "      <td>459.0</td>\n",
       "    </tr>\n",
       "    <tr>\n",
       "      <th>3</th>\n",
       "      <td>T4</td>\n",
       "      <td>C5342380</td>\n",
       "      <td>14/9/73</td>\n",
       "      <td>F</td>\n",
       "      <td>MUMBAI</td>\n",
       "      <td>866503.21</td>\n",
       "      <td>2/8/16</td>\n",
       "      <td>142714</td>\n",
       "      <td>2060.0</td>\n",
       "    </tr>\n",
       "    <tr>\n",
       "      <th>4</th>\n",
       "      <td>T5</td>\n",
       "      <td>C9031234</td>\n",
       "      <td>24/3/88</td>\n",
       "      <td>F</td>\n",
       "      <td>NAVI MUMBAI</td>\n",
       "      <td>6714.43</td>\n",
       "      <td>2/8/16</td>\n",
       "      <td>181156</td>\n",
       "      <td>1762.5</td>\n",
       "    </tr>\n",
       "  </tbody>\n",
       "</table>\n",
       "</div>"
      ],
      "text/plain": [
       "  TransactionID CustomerID CustomerDOB CustGender CustLocation  \\\n",
       "0            T1   C5841053     10/1/94          F   JAMSHEDPUR   \n",
       "1            T2   C2142763      4/4/57          M      JHAJJAR   \n",
       "2            T3   C4417068    26/11/96          F       MUMBAI   \n",
       "3            T4   C5342380     14/9/73          F       MUMBAI   \n",
       "4            T5   C9031234     24/3/88          F  NAVI MUMBAI   \n",
       "\n",
       "   CustAccountBalance TransactionDate  TransactionTime  \\\n",
       "0            17819.05          2/8/16           143207   \n",
       "1             2270.69          2/8/16           141858   \n",
       "2            17874.44          2/8/16           142712   \n",
       "3           866503.21          2/8/16           142714   \n",
       "4             6714.43          2/8/16           181156   \n",
       "\n",
       "   TransactionAmount (INR)  \n",
       "0                     25.0  \n",
       "1                  27999.0  \n",
       "2                    459.0  \n",
       "3                   2060.0  \n",
       "4                   1762.5  "
      ]
     },
     "execution_count": 6,
     "metadata": {},
     "output_type": "execute_result"
    }
   ],
   "source": [
    "df.head()"
   ]
  },
  {
   "cell_type": "code",
   "execution_count": 7,
   "id": "31bec53f",
   "metadata": {},
   "outputs": [],
   "source": [
    "df.drop(['TransactionID', 'CustomerID', 'TransactionTime'], axis=1, inplace=True)"
   ]
  },
  {
   "cell_type": "code",
   "execution_count": null,
   "id": "26e04d8b",
   "metadata": {},
   "outputs": [],
   "source": []
  },
  {
   "cell_type": "code",
   "execution_count": 8,
   "id": "2a2f8f10",
   "metadata": {},
   "outputs": [
    {
     "name": "stdout",
     "output_type": "stream",
     "text": [
      "0          10-01-1994\n",
      "1          04-04-2057\n",
      "2          26-11-1996\n",
      "3          14-09-1973\n",
      "4          24-03-1988\n",
      "              ...    \n",
      "1048562    08-04-1990\n",
      "1048563    20-02-1992\n",
      "1048564    18-05-1989\n",
      "1048565    30-08-1978\n",
      "1048566    05-03-1984\n",
      "Name: CustomerDOB, Length: 1048567, dtype: object\n"
     ]
    }
   ],
   "source": [
    "#convert customer DOB to datetime\n",
    "\n",
    "df['CustomerDOB'] = pd.to_datetime(df['CustomerDOB'], dayfirst=True)\n",
    "df['CustomerDOB'] = df['CustomerDOB'].apply(lambda x : x.strftime(\"%d-%m-%Y\") if not pd.isna(x) else np.nan)\n",
    "print(df['CustomerDOB'])"
   ]
  },
  {
   "cell_type": "code",
   "execution_count": 9,
   "id": "4b458ade",
   "metadata": {},
   "outputs": [],
   "source": [
    "#converting transactiondate to datetime\n",
    "\n",
    "df['TransactionDate'] = pd.to_datetime(df['TransactionDate'], dayfirst=True)"
   ]
  },
  {
   "cell_type": "code",
   "execution_count": 10,
   "id": "e47d8553",
   "metadata": {},
   "outputs": [
    {
     "data": {
      "text/plain": [
       "CustomerDOB                3397\n",
       "CustGender                 1100\n",
       "CustLocation                151\n",
       "CustAccountBalance         2369\n",
       "TransactionDate               0\n",
       "TransactionAmount (INR)       0\n",
       "dtype: int64"
      ]
     },
     "execution_count": 10,
     "metadata": {},
     "output_type": "execute_result"
    }
   ],
   "source": [
    "#finding the number of missing values in the dataset\n",
    "\n",
    "df.isnull().sum()"
   ]
  },
  {
   "cell_type": "code",
   "execution_count": 11,
   "id": "d7eb2c2a",
   "metadata": {},
   "outputs": [
    {
     "data": {
      "text/plain": [
       "01-01-1800    57339\n",
       "01-01-1989      809\n",
       "01-01-1990      784\n",
       "06-08-1991      699\n",
       "01-01-1991      666\n",
       "              ...  \n",
       "03-09-2060        1\n",
       "17-11-2052        1\n",
       "11-09-2063        1\n",
       "28-02-2047        1\n",
       "24-10-2044        1\n",
       "Name: CustomerDOB, Length: 17254, dtype: int64"
      ]
     },
     "execution_count": 11,
     "metadata": {},
     "output_type": "execute_result"
    }
   ],
   "source": [
    "df['CustomerDOB'].value_counts()"
   ]
  },
  {
   "cell_type": "code",
   "execution_count": 12,
   "id": "14e8579a",
   "metadata": {},
   "outputs": [
    {
     "data": {
      "text/plain": [
       "0.00        2711\n",
       "45856.24     538\n",
       "27021.05     514\n",
       "10238.63     401\n",
       "0.01         300\n",
       "            ... \n",
       "24755.11       1\n",
       "389.50         1\n",
       "23917.66       1\n",
       "51442.90       1\n",
       "1002.96        1\n",
       "Name: CustAccountBalance, Length: 161328, dtype: int64"
      ]
     },
     "execution_count": 12,
     "metadata": {},
     "output_type": "execute_result"
    }
   ],
   "source": [
    "df['CustAccountBalance'].value_counts()"
   ]
  },
  {
   "cell_type": "code",
   "execution_count": 13,
   "id": "7ad9d940",
   "metadata": {},
   "outputs": [
    {
     "data": {
      "text/plain": [
       "2016-08-07    27261\n",
       "2016-08-13    26921\n",
       "2016-08-06    26585\n",
       "2016-09-04    26564\n",
       "2016-09-03    26431\n",
       "2016-09-10    25761\n",
       "2016-08-14    25596\n",
       "2016-09-11    25454\n",
       "2016-08-15    24171\n",
       "2016-08-21    22986\n",
       "2016-09-02    22839\n",
       "2016-08-12    22438\n",
       "2016-09-01    22327\n",
       "2016-08-11    21833\n",
       "2016-08-09    21823\n",
       "2016-09-08    21765\n",
       "2016-08-10    21649\n",
       "2016-09-09    21568\n",
       "2016-08-27    21469\n",
       "2016-08-20    21339\n",
       "2016-09-05    21221\n",
       "2016-09-07    21161\n",
       "2016-08-17    21121\n",
       "2016-08-05    21112\n",
       "2016-08-28    21054\n",
       "2016-08-08    21042\n",
       "2016-08-02    20948\n",
       "2016-09-12    20753\n",
       "2016-08-04    20682\n",
       "2016-08-03    20615\n",
       "2016-09-13    20601\n",
       "2016-08-01    20438\n",
       "2016-08-16    20414\n",
       "2016-09-14    19969\n",
       "2016-09-15    19754\n",
       "2016-08-31    19711\n",
       "2016-09-06    19640\n",
       "2016-08-18    19453\n",
       "2016-08-19    18714\n",
       "2016-08-22    18558\n",
       "2016-08-25    18546\n",
       "2016-08-24    18026\n",
       "2016-08-26    17742\n",
       "2016-08-30    17430\n",
       "2016-08-23    17374\n",
       "2016-08-29    16882\n",
       "2016-09-18    14689\n",
       "2016-09-26    12460\n",
       "2016-09-25     8164\n",
       "2016-09-27     7447\n",
       "2016-09-22     6971\n",
       "2016-10-21     3656\n",
       "2016-09-23     3485\n",
       "2016-09-30     1951\n",
       "2016-10-16        3\n",
       "Name: TransactionDate, dtype: int64"
      ]
     },
     "execution_count": 13,
     "metadata": {},
     "output_type": "execute_result"
    }
   ],
   "source": [
    "df['TransactionDate'].value_counts()"
   ]
  },
  {
   "cell_type": "code",
   "execution_count": 14,
   "id": "aabb0198",
   "metadata": {},
   "outputs": [
    {
     "data": {
      "text/plain": [
       "43898"
      ]
     },
     "execution_count": 14,
     "metadata": {},
     "output_type": "execute_result"
    }
   ],
   "source": [
    "df.duplicated().sum()"
   ]
  },
  {
   "cell_type": "code",
   "execution_count": 15,
   "id": "ae9192d8",
   "metadata": {},
   "outputs": [],
   "source": [
    "# remove duplicated rows \n",
    "df.drop_duplicates(inplace=True)"
   ]
  },
  {
   "cell_type": "code",
   "execution_count": 16,
   "id": "aa2ee739",
   "metadata": {},
   "outputs": [],
   "source": [
    "#Observations on Data :\n",
    "#CustomerDOB, CustGender, CustLocation and CustAccountBalance have a high number of missing values\n",
    "# Unrealistic date '01/01/1800' and '12/06/2067'\n"
   ]
  },
  {
   "cell_type": "code",
   "execution_count": 21,
   "id": "12a96d6f",
   "metadata": {},
   "outputs": [
    {
     "data": {
      "text/html": [
       "<div>\n",
       "<style scoped>\n",
       "    .dataframe tbody tr th:only-of-type {\n",
       "        vertical-align: middle;\n",
       "    }\n",
       "\n",
       "    .dataframe tbody tr th {\n",
       "        vertical-align: top;\n",
       "    }\n",
       "\n",
       "    .dataframe thead th {\n",
       "        text-align: right;\n",
       "    }\n",
       "</style>\n",
       "<table border=\"1\" class=\"dataframe\">\n",
       "  <thead>\n",
       "    <tr style=\"text-align: right;\">\n",
       "      <th></th>\n",
       "      <th>CustomerDOB</th>\n",
       "      <th>CustGender</th>\n",
       "      <th>CustLocation</th>\n",
       "      <th>CustAccountBalance</th>\n",
       "      <th>TransactionDate</th>\n",
       "      <th>TransactionAmount (INR)</th>\n",
       "    </tr>\n",
       "  </thead>\n",
       "  <tbody>\n",
       "    <tr>\n",
       "      <th>176</th>\n",
       "      <td>01-01-1800</td>\n",
       "      <td>NaN</td>\n",
       "      <td>NAVI MUMBAI</td>\n",
       "      <td>8512.28</td>\n",
       "      <td>2016-08-12</td>\n",
       "      <td>3449.00</td>\n",
       "    </tr>\n",
       "    <tr>\n",
       "      <th>2124</th>\n",
       "      <td>01-01-1800</td>\n",
       "      <td>NaN</td>\n",
       "      <td>BANGALORE</td>\n",
       "      <td>7115.05</td>\n",
       "      <td>2016-10-21</td>\n",
       "      <td>584.06</td>\n",
       "    </tr>\n",
       "    <tr>\n",
       "      <th>5061</th>\n",
       "      <td>01-01-1800</td>\n",
       "      <td>NaN</td>\n",
       "      <td>MUMBAI</td>\n",
       "      <td>10669.85</td>\n",
       "      <td>2016-09-22</td>\n",
       "      <td>1500.00</td>\n",
       "    </tr>\n",
       "    <tr>\n",
       "      <th>13035</th>\n",
       "      <td>01-01-1800</td>\n",
       "      <td>NaN</td>\n",
       "      <td>MULUND WEST</td>\n",
       "      <td>65989.63</td>\n",
       "      <td>2016-09-26</td>\n",
       "      <td>336.52</td>\n",
       "    </tr>\n",
       "    <tr>\n",
       "      <th>14878</th>\n",
       "      <td>01-01-1800</td>\n",
       "      <td>NaN</td>\n",
       "      <td>NAVI MUMBAI</td>\n",
       "      <td>603.00</td>\n",
       "      <td>2016-09-26</td>\n",
       "      <td>1494.00</td>\n",
       "    </tr>\n",
       "    <tr>\n",
       "      <th>...</th>\n",
       "      <td>...</td>\n",
       "      <td>...</td>\n",
       "      <td>...</td>\n",
       "      <td>...</td>\n",
       "      <td>...</td>\n",
       "      <td>...</td>\n",
       "    </tr>\n",
       "    <tr>\n",
       "      <th>1034579</th>\n",
       "      <td>12-12-2050</td>\n",
       "      <td>NaN</td>\n",
       "      <td>MUMBAI</td>\n",
       "      <td>1091.50</td>\n",
       "      <td>2016-09-18</td>\n",
       "      <td>1168.00</td>\n",
       "    </tr>\n",
       "    <tr>\n",
       "      <th>1038102</th>\n",
       "      <td>01-01-1800</td>\n",
       "      <td>NaN</td>\n",
       "      <td>MUMBAI</td>\n",
       "      <td>6516.33</td>\n",
       "      <td>2016-09-18</td>\n",
       "      <td>100.00</td>\n",
       "    </tr>\n",
       "    <tr>\n",
       "      <th>1040773</th>\n",
       "      <td>01-01-1800</td>\n",
       "      <td>NaN</td>\n",
       "      <td>MUMBAI</td>\n",
       "      <td>25.00</td>\n",
       "      <td>2016-09-18</td>\n",
       "      <td>100.00</td>\n",
       "    </tr>\n",
       "    <tr>\n",
       "      <th>1044782</th>\n",
       "      <td>01-01-1800</td>\n",
       "      <td>NaN</td>\n",
       "      <td>JAIPUR</td>\n",
       "      <td>2222.22</td>\n",
       "      <td>2016-09-18</td>\n",
       "      <td>8335.00</td>\n",
       "    </tr>\n",
       "    <tr>\n",
       "      <th>1046664</th>\n",
       "      <td>01-01-1800</td>\n",
       "      <td>NaN</td>\n",
       "      <td>THANE</td>\n",
       "      <td>2106.69</td>\n",
       "      <td>2016-09-18</td>\n",
       "      <td>6986.00</td>\n",
       "    </tr>\n",
       "  </tbody>\n",
       "</table>\n",
       "<p>1005 rows × 6 columns</p>\n",
       "</div>"
      ],
      "text/plain": [
       "        CustomerDOB CustGender CustLocation  CustAccountBalance  \\\n",
       "176      01-01-1800        NaN  NAVI MUMBAI             8512.28   \n",
       "2124     01-01-1800        NaN    BANGALORE             7115.05   \n",
       "5061     01-01-1800        NaN       MUMBAI            10669.85   \n",
       "13035    01-01-1800        NaN  MULUND WEST            65989.63   \n",
       "14878    01-01-1800        NaN  NAVI MUMBAI              603.00   \n",
       "...             ...        ...          ...                 ...   \n",
       "1034579  12-12-2050        NaN       MUMBAI             1091.50   \n",
       "1038102  01-01-1800        NaN       MUMBAI             6516.33   \n",
       "1040773  01-01-1800        NaN       MUMBAI               25.00   \n",
       "1044782  01-01-1800        NaN       JAIPUR             2222.22   \n",
       "1046664  01-01-1800        NaN        THANE             2106.69   \n",
       "\n",
       "        TransactionDate  TransactionAmount (INR)  \n",
       "176          2016-08-12                  3449.00  \n",
       "2124         2016-10-21                   584.06  \n",
       "5061         2016-09-22                  1500.00  \n",
       "13035        2016-09-26                   336.52  \n",
       "14878        2016-09-26                  1494.00  \n",
       "...                 ...                      ...  \n",
       "1034579      2016-09-18                  1168.00  \n",
       "1038102      2016-09-18                   100.00  \n",
       "1040773      2016-09-18                   100.00  \n",
       "1044782      2016-09-18                  8335.00  \n",
       "1046664      2016-09-18                  6986.00  \n",
       "\n",
       "[1005 rows x 6 columns]"
      ]
     },
     "execution_count": 21,
     "metadata": {},
     "output_type": "execute_result"
    }
   ],
   "source": [
    "# check missing values on CustGender\n",
    "df[df['CustGender'].isna()]"
   ]
  },
  {
   "cell_type": "code",
   "execution_count": 18,
   "id": "dc965eea",
   "metadata": {},
   "outputs": [],
   "source": [
    "#It can be observed that wherever Customer Gender is missing, Customer DOB is also missing."
   ]
  },
  {
   "cell_type": "code",
   "execution_count": 51,
   "id": "486b8e39",
   "metadata": {},
   "outputs": [
    {
     "data": {
      "text/html": [
       "<div>\n",
       "<style scoped>\n",
       "    .dataframe tbody tr th:only-of-type {\n",
       "        vertical-align: middle;\n",
       "    }\n",
       "\n",
       "    .dataframe tbody tr th {\n",
       "        vertical-align: top;\n",
       "    }\n",
       "\n",
       "    .dataframe thead th {\n",
       "        text-align: right;\n",
       "    }\n",
       "</style>\n",
       "<table border=\"1\" class=\"dataframe\">\n",
       "  <thead>\n",
       "    <tr style=\"text-align: right;\">\n",
       "      <th></th>\n",
       "      <th>TransactionID</th>\n",
       "      <th>CustomerID</th>\n",
       "      <th>CustomerDOB</th>\n",
       "      <th>CustGender</th>\n",
       "      <th>CustLocation</th>\n",
       "      <th>CustAccountBalance</th>\n",
       "      <th>TransactionDate</th>\n",
       "      <th>TransactionTime</th>\n",
       "      <th>TransactionAmount (INR)</th>\n",
       "    </tr>\n",
       "  </thead>\n",
       "  <tbody>\n",
       "    <tr>\n",
       "      <th>176</th>\n",
       "      <td>T177</td>\n",
       "      <td>C5698953</td>\n",
       "      <td>1/1/1800</td>\n",
       "      <td>NaN</td>\n",
       "      <td>NAVI MUMBAI</td>\n",
       "      <td>8512.28</td>\n",
       "      <td>12/8/16</td>\n",
       "      <td>155727</td>\n",
       "      <td>3449.00</td>\n",
       "    </tr>\n",
       "    <tr>\n",
       "      <th>2124</th>\n",
       "      <td>T2125</td>\n",
       "      <td>C4525944</td>\n",
       "      <td>1/1/1800</td>\n",
       "      <td>NaN</td>\n",
       "      <td>BANGALORE</td>\n",
       "      <td>7115.05</td>\n",
       "      <td>21/10/16</td>\n",
       "      <td>201052</td>\n",
       "      <td>584.06</td>\n",
       "    </tr>\n",
       "    <tr>\n",
       "      <th>5061</th>\n",
       "      <td>T5062</td>\n",
       "      <td>C7541851</td>\n",
       "      <td>1/1/1800</td>\n",
       "      <td>NaN</td>\n",
       "      <td>MUMBAI</td>\n",
       "      <td>10669.85</td>\n",
       "      <td>22/9/16</td>\n",
       "      <td>61227</td>\n",
       "      <td>1500.00</td>\n",
       "    </tr>\n",
       "    <tr>\n",
       "      <th>13035</th>\n",
       "      <td>T13036</td>\n",
       "      <td>C3788162</td>\n",
       "      <td>1/1/1800</td>\n",
       "      <td>NaN</td>\n",
       "      <td>MULUND WEST</td>\n",
       "      <td>65989.63</td>\n",
       "      <td>26/9/16</td>\n",
       "      <td>210819</td>\n",
       "      <td>336.52</td>\n",
       "    </tr>\n",
       "    <tr>\n",
       "      <th>14878</th>\n",
       "      <td>T14879</td>\n",
       "      <td>C6239153</td>\n",
       "      <td>1/1/1800</td>\n",
       "      <td>NaN</td>\n",
       "      <td>NAVI MUMBAI</td>\n",
       "      <td>603.00</td>\n",
       "      <td>26/9/16</td>\n",
       "      <td>163122</td>\n",
       "      <td>1494.00</td>\n",
       "    </tr>\n",
       "    <tr>\n",
       "      <th>...</th>\n",
       "      <td>...</td>\n",
       "      <td>...</td>\n",
       "      <td>...</td>\n",
       "      <td>...</td>\n",
       "      <td>...</td>\n",
       "      <td>...</td>\n",
       "      <td>...</td>\n",
       "      <td>...</td>\n",
       "      <td>...</td>\n",
       "    </tr>\n",
       "    <tr>\n",
       "      <th>1034816</th>\n",
       "      <td>T1034817</td>\n",
       "      <td>C8437074</td>\n",
       "      <td>1/1/1800</td>\n",
       "      <td>NaN</td>\n",
       "      <td>NAVI MUMBAI</td>\n",
       "      <td>1294.44</td>\n",
       "      <td>18/9/16</td>\n",
       "      <td>174142</td>\n",
       "      <td>392.67</td>\n",
       "    </tr>\n",
       "    <tr>\n",
       "      <th>1038102</th>\n",
       "      <td>T1038103</td>\n",
       "      <td>C1320574</td>\n",
       "      <td>1/1/1800</td>\n",
       "      <td>NaN</td>\n",
       "      <td>MUMBAI</td>\n",
       "      <td>6516.33</td>\n",
       "      <td>18/9/16</td>\n",
       "      <td>135833</td>\n",
       "      <td>100.00</td>\n",
       "    </tr>\n",
       "    <tr>\n",
       "      <th>1040773</th>\n",
       "      <td>T1040774</td>\n",
       "      <td>C3979735</td>\n",
       "      <td>1/1/1800</td>\n",
       "      <td>NaN</td>\n",
       "      <td>MUMBAI</td>\n",
       "      <td>25.00</td>\n",
       "      <td>18/9/16</td>\n",
       "      <td>145528</td>\n",
       "      <td>100.00</td>\n",
       "    </tr>\n",
       "    <tr>\n",
       "      <th>1044782</th>\n",
       "      <td>T1044783</td>\n",
       "      <td>C8081531</td>\n",
       "      <td>1/1/1800</td>\n",
       "      <td>NaN</td>\n",
       "      <td>JAIPUR</td>\n",
       "      <td>2222.22</td>\n",
       "      <td>18/9/16</td>\n",
       "      <td>110038</td>\n",
       "      <td>8335.00</td>\n",
       "    </tr>\n",
       "    <tr>\n",
       "      <th>1046664</th>\n",
       "      <td>T1046665</td>\n",
       "      <td>C6514934</td>\n",
       "      <td>1/1/1800</td>\n",
       "      <td>NaN</td>\n",
       "      <td>THANE</td>\n",
       "      <td>2106.69</td>\n",
       "      <td>18/9/16</td>\n",
       "      <td>93433</td>\n",
       "      <td>6986.00</td>\n",
       "    </tr>\n",
       "  </tbody>\n",
       "</table>\n",
       "<p>873 rows × 9 columns</p>\n",
       "</div>"
      ],
      "text/plain": [
       "        TransactionID CustomerID CustomerDOB CustGender CustLocation  \\\n",
       "176              T177   C5698953    1/1/1800        NaN  NAVI MUMBAI   \n",
       "2124            T2125   C4525944    1/1/1800        NaN    BANGALORE   \n",
       "5061            T5062   C7541851    1/1/1800        NaN       MUMBAI   \n",
       "13035          T13036   C3788162    1/1/1800        NaN  MULUND WEST   \n",
       "14878          T14879   C6239153    1/1/1800        NaN  NAVI MUMBAI   \n",
       "...               ...        ...         ...        ...          ...   \n",
       "1034816      T1034817   C8437074    1/1/1800        NaN  NAVI MUMBAI   \n",
       "1038102      T1038103   C1320574    1/1/1800        NaN       MUMBAI   \n",
       "1040773      T1040774   C3979735    1/1/1800        NaN       MUMBAI   \n",
       "1044782      T1044783   C8081531    1/1/1800        NaN       JAIPUR   \n",
       "1046664      T1046665   C6514934    1/1/1800        NaN        THANE   \n",
       "\n",
       "         CustAccountBalance TransactionDate  TransactionTime  \\\n",
       "176                 8512.28         12/8/16           155727   \n",
       "2124                7115.05        21/10/16           201052   \n",
       "5061               10669.85         22/9/16            61227   \n",
       "13035              65989.63         26/9/16           210819   \n",
       "14878                603.00         26/9/16           163122   \n",
       "...                     ...             ...              ...   \n",
       "1034816             1294.44         18/9/16           174142   \n",
       "1038102             6516.33         18/9/16           135833   \n",
       "1040773               25.00         18/9/16           145528   \n",
       "1044782             2222.22         18/9/16           110038   \n",
       "1046664             2106.69         18/9/16            93433   \n",
       "\n",
       "         TransactionAmount (INR)  \n",
       "176                      3449.00  \n",
       "2124                      584.06  \n",
       "5061                     1500.00  \n",
       "13035                     336.52  \n",
       "14878                    1494.00  \n",
       "...                          ...  \n",
       "1034816                   392.67  \n",
       "1038102                   100.00  \n",
       "1040773                   100.00  \n",
       "1044782                  8335.00  \n",
       "1046664                  6986.00  \n",
       "\n",
       "[873 rows x 9 columns]"
      ]
     },
     "execution_count": 51,
     "metadata": {},
     "output_type": "execute_result"
    }
   ],
   "source": [
    "#to verify it further we use filters to check\n",
    "df[(df['CustGender'].isna()) & (df['CustomerDOB'] == '1/1/1800')]"
   ]
  },
  {
   "cell_type": "code",
   "execution_count": 52,
   "id": "23e7253c",
   "metadata": {},
   "outputs": [
    {
     "data": {
      "text/html": [
       "<div>\n",
       "<style scoped>\n",
       "    .dataframe tbody tr th:only-of-type {\n",
       "        vertical-align: middle;\n",
       "    }\n",
       "\n",
       "    .dataframe tbody tr th {\n",
       "        vertical-align: top;\n",
       "    }\n",
       "\n",
       "    .dataframe thead th {\n",
       "        text-align: right;\n",
       "    }\n",
       "</style>\n",
       "<table border=\"1\" class=\"dataframe\">\n",
       "  <thead>\n",
       "    <tr style=\"text-align: right;\">\n",
       "      <th></th>\n",
       "      <th>TransactionID</th>\n",
       "      <th>CustomerID</th>\n",
       "      <th>CustomerDOB</th>\n",
       "      <th>CustGender</th>\n",
       "      <th>CustLocation</th>\n",
       "      <th>CustAccountBalance</th>\n",
       "      <th>TransactionDate</th>\n",
       "      <th>TransactionTime</th>\n",
       "      <th>TransactionAmount (INR)</th>\n",
       "    </tr>\n",
       "  </thead>\n",
       "  <tbody>\n",
       "    <tr>\n",
       "      <th>46189</th>\n",
       "      <td>T46190</td>\n",
       "      <td>C2339777</td>\n",
       "      <td>1/1/1800</td>\n",
       "      <td>M</td>\n",
       "      <td>NEW DELHI</td>\n",
       "      <td>NaN</td>\n",
       "      <td>3/8/16</td>\n",
       "      <td>111200</td>\n",
       "      <td>1000.00</td>\n",
       "    </tr>\n",
       "    <tr>\n",
       "      <th>52180</th>\n",
       "      <td>T52181</td>\n",
       "      <td>C5621640</td>\n",
       "      <td>1/1/1800</td>\n",
       "      <td>F</td>\n",
       "      <td>BANGALORE</td>\n",
       "      <td>NaN</td>\n",
       "      <td>3/8/16</td>\n",
       "      <td>164613</td>\n",
       "      <td>706.58</td>\n",
       "    </tr>\n",
       "    <tr>\n",
       "      <th>52653</th>\n",
       "      <td>T52654</td>\n",
       "      <td>C6521656</td>\n",
       "      <td>1/1/1800</td>\n",
       "      <td>F</td>\n",
       "      <td>BANGALORE</td>\n",
       "      <td>NaN</td>\n",
       "      <td>3/8/16</td>\n",
       "      <td>164650</td>\n",
       "      <td>706.58</td>\n",
       "    </tr>\n",
       "    <tr>\n",
       "      <th>53026</th>\n",
       "      <td>T53027</td>\n",
       "      <td>C6940371</td>\n",
       "      <td>1/1/1800</td>\n",
       "      <td>M</td>\n",
       "      <td>MUMBAI</td>\n",
       "      <td>NaN</td>\n",
       "      <td>3/8/16</td>\n",
       "      <td>164520</td>\n",
       "      <td>2094.00</td>\n",
       "    </tr>\n",
       "    <tr>\n",
       "      <th>60462</th>\n",
       "      <td>T60463</td>\n",
       "      <td>C7641448</td>\n",
       "      <td>1/1/1800</td>\n",
       "      <td>M</td>\n",
       "      <td>NEW DELHI</td>\n",
       "      <td>NaN</td>\n",
       "      <td>3/8/16</td>\n",
       "      <td>231538</td>\n",
       "      <td>438.00</td>\n",
       "    </tr>\n",
       "    <tr>\n",
       "      <th>...</th>\n",
       "      <td>...</td>\n",
       "      <td>...</td>\n",
       "      <td>...</td>\n",
       "      <td>...</td>\n",
       "      <td>...</td>\n",
       "      <td>...</td>\n",
       "      <td>...</td>\n",
       "      <td>...</td>\n",
       "      <td>...</td>\n",
       "    </tr>\n",
       "    <tr>\n",
       "      <th>979397</th>\n",
       "      <td>T979398</td>\n",
       "      <td>C4080860</td>\n",
       "      <td>1/1/1800</td>\n",
       "      <td>M</td>\n",
       "      <td>NEW DELHI</td>\n",
       "      <td>NaN</td>\n",
       "      <td>15/9/16</td>\n",
       "      <td>94831</td>\n",
       "      <td>1000.00</td>\n",
       "    </tr>\n",
       "    <tr>\n",
       "      <th>998105</th>\n",
       "      <td>T998106</td>\n",
       "      <td>C3831577</td>\n",
       "      <td>1/1/1800</td>\n",
       "      <td>M</td>\n",
       "      <td>HYDERABAD</td>\n",
       "      <td>NaN</td>\n",
       "      <td>14/9/16</td>\n",
       "      <td>143753</td>\n",
       "      <td>96.00</td>\n",
       "    </tr>\n",
       "    <tr>\n",
       "      <th>1014416</th>\n",
       "      <td>T1014417</td>\n",
       "      <td>C1532188</td>\n",
       "      <td>1/1/1800</td>\n",
       "      <td>F</td>\n",
       "      <td>JOGESHWARI WEST MUMBAI</td>\n",
       "      <td>NaN</td>\n",
       "      <td>14/9/16</td>\n",
       "      <td>223106</td>\n",
       "      <td>570.00</td>\n",
       "    </tr>\n",
       "    <tr>\n",
       "      <th>1033830</th>\n",
       "      <td>T1033831</td>\n",
       "      <td>C5935263</td>\n",
       "      <td>1/1/1800</td>\n",
       "      <td>M</td>\n",
       "      <td>MUMBAI</td>\n",
       "      <td>NaN</td>\n",
       "      <td>18/9/16</td>\n",
       "      <td>174108</td>\n",
       "      <td>382.69</td>\n",
       "    </tr>\n",
       "    <tr>\n",
       "      <th>1038809</th>\n",
       "      <td>T1038810</td>\n",
       "      <td>C5035291</td>\n",
       "      <td>1/1/1800</td>\n",
       "      <td>M</td>\n",
       "      <td>MUMBAI</td>\n",
       "      <td>NaN</td>\n",
       "      <td>18/9/16</td>\n",
       "      <td>141649</td>\n",
       "      <td>460.16</td>\n",
       "    </tr>\n",
       "  </tbody>\n",
       "</table>\n",
       "<p>174 rows × 9 columns</p>\n",
       "</div>"
      ],
      "text/plain": [
       "        TransactionID CustomerID CustomerDOB CustGender  \\\n",
       "46189          T46190   C2339777    1/1/1800          M   \n",
       "52180          T52181   C5621640    1/1/1800          F   \n",
       "52653          T52654   C6521656    1/1/1800          F   \n",
       "53026          T53027   C6940371    1/1/1800          M   \n",
       "60462          T60463   C7641448    1/1/1800          M   \n",
       "...               ...        ...         ...        ...   \n",
       "979397        T979398   C4080860    1/1/1800          M   \n",
       "998105        T998106   C3831577    1/1/1800          M   \n",
       "1014416      T1014417   C1532188    1/1/1800          F   \n",
       "1033830      T1033831   C5935263    1/1/1800          M   \n",
       "1038809      T1038810   C5035291    1/1/1800          M   \n",
       "\n",
       "                   CustLocation  CustAccountBalance TransactionDate  \\\n",
       "46189                 NEW DELHI                 NaN          3/8/16   \n",
       "52180                 BANGALORE                 NaN          3/8/16   \n",
       "52653                 BANGALORE                 NaN          3/8/16   \n",
       "53026                    MUMBAI                 NaN          3/8/16   \n",
       "60462                 NEW DELHI                 NaN          3/8/16   \n",
       "...                         ...                 ...             ...   \n",
       "979397                NEW DELHI                 NaN         15/9/16   \n",
       "998105                HYDERABAD                 NaN         14/9/16   \n",
       "1014416  JOGESHWARI WEST MUMBAI                 NaN         14/9/16   \n",
       "1033830                  MUMBAI                 NaN         18/9/16   \n",
       "1038809                  MUMBAI                 NaN         18/9/16   \n",
       "\n",
       "         TransactionTime  TransactionAmount (INR)  \n",
       "46189             111200                  1000.00  \n",
       "52180             164613                   706.58  \n",
       "52653             164650                   706.58  \n",
       "53026             164520                  2094.00  \n",
       "60462             231538                   438.00  \n",
       "...                  ...                      ...  \n",
       "979397             94831                  1000.00  \n",
       "998105            143753                    96.00  \n",
       "1014416           223106                   570.00  \n",
       "1033830           174108                   382.69  \n",
       "1038809           141649                   460.16  \n",
       "\n",
       "[174 rows x 9 columns]"
      ]
     },
     "execution_count": 52,
     "metadata": {},
     "output_type": "execute_result"
    }
   ],
   "source": [
    "df[(df['CustAccountBalance'].isna()) & (df['CustomerDOB'] == '1/1/1800')]"
   ]
  },
  {
   "cell_type": "code",
   "execution_count": 53,
   "id": "b319cad5",
   "metadata": {},
   "outputs": [
    {
     "data": {
      "text/html": [
       "<div>\n",
       "<style scoped>\n",
       "    .dataframe tbody tr th:only-of-type {\n",
       "        vertical-align: middle;\n",
       "    }\n",
       "\n",
       "    .dataframe tbody tr th {\n",
       "        vertical-align: top;\n",
       "    }\n",
       "\n",
       "    .dataframe thead th {\n",
       "        text-align: right;\n",
       "    }\n",
       "</style>\n",
       "<table border=\"1\" class=\"dataframe\">\n",
       "  <thead>\n",
       "    <tr style=\"text-align: right;\">\n",
       "      <th></th>\n",
       "      <th>TransactionID</th>\n",
       "      <th>CustomerID</th>\n",
       "      <th>CustomerDOB</th>\n",
       "      <th>CustGender</th>\n",
       "      <th>CustLocation</th>\n",
       "      <th>CustAccountBalance</th>\n",
       "      <th>TransactionDate</th>\n",
       "      <th>TransactionTime</th>\n",
       "      <th>TransactionAmount (INR)</th>\n",
       "    </tr>\n",
       "  </thead>\n",
       "  <tbody>\n",
       "  </tbody>\n",
       "</table>\n",
       "</div>"
      ],
      "text/plain": [
       "Empty DataFrame\n",
       "Columns: [TransactionID, CustomerID, CustomerDOB, CustGender, CustLocation, CustAccountBalance, TransactionDate, TransactionTime, TransactionAmount (INR)]\n",
       "Index: []"
      ]
     },
     "execution_count": 53,
     "metadata": {},
     "output_type": "execute_result"
    }
   ],
   "source": [
    "df[(df['CustLocation'].isna()) & (df['CustomerDOB'] == '1/1/1800')]"
   ]
  },
  {
   "cell_type": "code",
   "execution_count": 28,
   "id": "6cf06af6",
   "metadata": {},
   "outputs": [
    {
     "data": {
      "text/html": [
       "<div>\n",
       "<style scoped>\n",
       "    .dataframe tbody tr th:only-of-type {\n",
       "        vertical-align: middle;\n",
       "    }\n",
       "\n",
       "    .dataframe tbody tr th {\n",
       "        vertical-align: top;\n",
       "    }\n",
       "\n",
       "    .dataframe thead th {\n",
       "        text-align: right;\n",
       "    }\n",
       "</style>\n",
       "<table border=\"1\" class=\"dataframe\">\n",
       "  <thead>\n",
       "    <tr style=\"text-align: right;\">\n",
       "      <th></th>\n",
       "      <th>TransactionID</th>\n",
       "      <th>CustomerID</th>\n",
       "      <th>CustomerDOB</th>\n",
       "      <th>CustGender</th>\n",
       "      <th>CustLocation</th>\n",
       "      <th>CustAccountBalance</th>\n",
       "      <th>TransactionDate</th>\n",
       "      <th>TransactionTime</th>\n",
       "      <th>TransactionAmount (INR)</th>\n",
       "    </tr>\n",
       "  </thead>\n",
       "  <tbody>\n",
       "    <tr>\n",
       "      <th>46189</th>\n",
       "      <td>T46190</td>\n",
       "      <td>C2339777</td>\n",
       "      <td>1/1/1800</td>\n",
       "      <td>M</td>\n",
       "      <td>NEW DELHI</td>\n",
       "      <td>NaN</td>\n",
       "      <td>3/8/16</td>\n",
       "      <td>111200</td>\n",
       "      <td>1000.00</td>\n",
       "    </tr>\n",
       "    <tr>\n",
       "      <th>52180</th>\n",
       "      <td>T52181</td>\n",
       "      <td>C5621640</td>\n",
       "      <td>1/1/1800</td>\n",
       "      <td>F</td>\n",
       "      <td>BANGALORE</td>\n",
       "      <td>NaN</td>\n",
       "      <td>3/8/16</td>\n",
       "      <td>164613</td>\n",
       "      <td>706.58</td>\n",
       "    </tr>\n",
       "    <tr>\n",
       "      <th>52653</th>\n",
       "      <td>T52654</td>\n",
       "      <td>C6521656</td>\n",
       "      <td>1/1/1800</td>\n",
       "      <td>F</td>\n",
       "      <td>BANGALORE</td>\n",
       "      <td>NaN</td>\n",
       "      <td>3/8/16</td>\n",
       "      <td>164650</td>\n",
       "      <td>706.58</td>\n",
       "    </tr>\n",
       "    <tr>\n",
       "      <th>53026</th>\n",
       "      <td>T53027</td>\n",
       "      <td>C6940371</td>\n",
       "      <td>1/1/1800</td>\n",
       "      <td>M</td>\n",
       "      <td>MUMBAI</td>\n",
       "      <td>NaN</td>\n",
       "      <td>3/8/16</td>\n",
       "      <td>164520</td>\n",
       "      <td>2094.00</td>\n",
       "    </tr>\n",
       "    <tr>\n",
       "      <th>60462</th>\n",
       "      <td>T60463</td>\n",
       "      <td>C7641448</td>\n",
       "      <td>1/1/1800</td>\n",
       "      <td>M</td>\n",
       "      <td>NEW DELHI</td>\n",
       "      <td>NaN</td>\n",
       "      <td>3/8/16</td>\n",
       "      <td>231538</td>\n",
       "      <td>438.00</td>\n",
       "    </tr>\n",
       "    <tr>\n",
       "      <th>...</th>\n",
       "      <td>...</td>\n",
       "      <td>...</td>\n",
       "      <td>...</td>\n",
       "      <td>...</td>\n",
       "      <td>...</td>\n",
       "      <td>...</td>\n",
       "      <td>...</td>\n",
       "      <td>...</td>\n",
       "      <td>...</td>\n",
       "    </tr>\n",
       "    <tr>\n",
       "      <th>979397</th>\n",
       "      <td>T979398</td>\n",
       "      <td>C4080860</td>\n",
       "      <td>1/1/1800</td>\n",
       "      <td>M</td>\n",
       "      <td>NEW DELHI</td>\n",
       "      <td>NaN</td>\n",
       "      <td>15/9/16</td>\n",
       "      <td>94831</td>\n",
       "      <td>1000.00</td>\n",
       "    </tr>\n",
       "    <tr>\n",
       "      <th>998105</th>\n",
       "      <td>T998106</td>\n",
       "      <td>C3831577</td>\n",
       "      <td>1/1/1800</td>\n",
       "      <td>M</td>\n",
       "      <td>HYDERABAD</td>\n",
       "      <td>NaN</td>\n",
       "      <td>14/9/16</td>\n",
       "      <td>143753</td>\n",
       "      <td>96.00</td>\n",
       "    </tr>\n",
       "    <tr>\n",
       "      <th>1014416</th>\n",
       "      <td>T1014417</td>\n",
       "      <td>C1532188</td>\n",
       "      <td>1/1/1800</td>\n",
       "      <td>F</td>\n",
       "      <td>JOGESHWARI WEST MUMBAI</td>\n",
       "      <td>NaN</td>\n",
       "      <td>14/9/16</td>\n",
       "      <td>223106</td>\n",
       "      <td>570.00</td>\n",
       "    </tr>\n",
       "    <tr>\n",
       "      <th>1033830</th>\n",
       "      <td>T1033831</td>\n",
       "      <td>C5935263</td>\n",
       "      <td>1/1/1800</td>\n",
       "      <td>M</td>\n",
       "      <td>MUMBAI</td>\n",
       "      <td>NaN</td>\n",
       "      <td>18/9/16</td>\n",
       "      <td>174108</td>\n",
       "      <td>382.69</td>\n",
       "    </tr>\n",
       "    <tr>\n",
       "      <th>1038809</th>\n",
       "      <td>T1038810</td>\n",
       "      <td>C5035291</td>\n",
       "      <td>1/1/1800</td>\n",
       "      <td>M</td>\n",
       "      <td>MUMBAI</td>\n",
       "      <td>NaN</td>\n",
       "      <td>18/9/16</td>\n",
       "      <td>141649</td>\n",
       "      <td>460.16</td>\n",
       "    </tr>\n",
       "  </tbody>\n",
       "</table>\n",
       "<p>174 rows × 9 columns</p>\n",
       "</div>"
      ],
      "text/plain": [
       "        TransactionID CustomerID CustomerDOB CustGender  \\\n",
       "46189          T46190   C2339777    1/1/1800          M   \n",
       "52180          T52181   C5621640    1/1/1800          F   \n",
       "52653          T52654   C6521656    1/1/1800          F   \n",
       "53026          T53027   C6940371    1/1/1800          M   \n",
       "60462          T60463   C7641448    1/1/1800          M   \n",
       "...               ...        ...         ...        ...   \n",
       "979397        T979398   C4080860    1/1/1800          M   \n",
       "998105        T998106   C3831577    1/1/1800          M   \n",
       "1014416      T1014417   C1532188    1/1/1800          F   \n",
       "1033830      T1033831   C5935263    1/1/1800          M   \n",
       "1038809      T1038810   C5035291    1/1/1800          M   \n",
       "\n",
       "                   CustLocation  CustAccountBalance TransactionDate  \\\n",
       "46189                 NEW DELHI                 NaN          3/8/16   \n",
       "52180                 BANGALORE                 NaN          3/8/16   \n",
       "52653                 BANGALORE                 NaN          3/8/16   \n",
       "53026                    MUMBAI                 NaN          3/8/16   \n",
       "60462                 NEW DELHI                 NaN          3/8/16   \n",
       "...                         ...                 ...             ...   \n",
       "979397                NEW DELHI                 NaN         15/9/16   \n",
       "998105                HYDERABAD                 NaN         14/9/16   \n",
       "1014416  JOGESHWARI WEST MUMBAI                 NaN         14/9/16   \n",
       "1033830                  MUMBAI                 NaN         18/9/16   \n",
       "1038809                  MUMBAI                 NaN         18/9/16   \n",
       "\n",
       "         TransactionTime  TransactionAmount (INR)  \n",
       "46189             111200                  1000.00  \n",
       "52180             164613                   706.58  \n",
       "52653             164650                   706.58  \n",
       "53026             164520                  2094.00  \n",
       "60462             231538                   438.00  \n",
       "...                  ...                      ...  \n",
       "979397             94831                  1000.00  \n",
       "998105            143753                    96.00  \n",
       "1014416           223106                   570.00  \n",
       "1033830           174108                   382.69  \n",
       "1038809           141649                   460.16  \n",
       "\n",
       "[174 rows x 9 columns]"
      ]
     },
     "execution_count": 28,
     "metadata": {},
     "output_type": "execute_result"
    }
   ],
   "source": [
    "df[(df['CustAccountBalance'].isna()) & (df['CustomerDOB'] == '1/1/1800')]"
   ]
  },
  {
   "cell_type": "code",
   "execution_count": 39,
   "id": "ce50ed46",
   "metadata": {},
   "outputs": [],
   "source": [
    "# Treatment on Data\n"
   ]
  },
  {
   "cell_type": "code",
   "execution_count": 23,
   "id": "29b0b847",
   "metadata": {},
   "outputs": [
    {
     "name": "stdout",
     "output_type": "stream",
     "text": [
      "Number of Missing Values (Before Treatment) : 6626\n",
      "Number of Missing Values : 5560\n"
     ]
    }
   ],
   "source": [
    "# Remove gender where the DOB is '01-01-1800'\n",
    "\n",
    "df2 = df.copy()\n",
    "print(f'Number of Missing Values (Before Treatment) : {df.isnull().sum().sum()}')\n",
    "df2.dropna(subset = ['CustGender'], inplace=True)\n",
    "print(f'Number of Missing Values : {df2.isnull().sum().sum()}')"
   ]
  },
  {
   "cell_type": "code",
   "execution_count": 24,
   "id": "c6ff8b3b",
   "metadata": {},
   "outputs": [
    {
     "name": "stdout",
     "output_type": "stream",
     "text": [
      "Number of Missing Values : 5395\n",
      "Number of Missing Values : 2208\n"
     ]
    }
   ],
   "source": [
    "# Remove Account Balance where the DOB is '01-01-1800'\n",
    "\n",
    "df2.drop(df2[(df2['CustAccountBalance'].isna()) & (df2['CustomerDOB'] == '01-01-1800')].index, \n",
    "         inplace=True)\n",
    "print(f'Number of Missing Values : {df2.isnull().sum().sum()}')\n",
    "\n",
    "# Remove DOB where DOB is '01-01-1800' and Replace the Rest with \"Unidentified\"\n",
    "\n",
    "df2.drop(df2[df2['CustomerDOB'] == '01-01-1800'].index, inplace=True)\n",
    "df2['CustomerDOB'] = df2['CustomerDOB'].fillna('Unidentified')\n",
    "print(f'Number of Missing Values : {df2.isnull().sum().sum()}')"
   ]
  },
  {
   "cell_type": "code",
   "execution_count": 25,
   "id": "e72a18b6",
   "metadata": {},
   "outputs": [
    {
     "name": "stdout",
     "output_type": "stream",
     "text": [
      "Number of Missing Values : 147\n"
     ]
    }
   ],
   "source": [
    "# Replace Account Balance with Mean values\n",
    "\n",
    "mean = df2['CustAccountBalance'].mean(skipna=True) \n",
    "df2['CustAccountBalance'] = df2['CustAccountBalance'].fillna(mean)\n",
    "print(f'Number of Missing Values : {df2.isnull().sum().sum()}')"
   ]
  },
  {
   "cell_type": "code",
   "execution_count": 26,
   "id": "6f9eb6da",
   "metadata": {},
   "outputs": [
    {
     "name": "stdout",
     "output_type": "stream",
     "text": [
      "Number of Missing Values : 0\n"
     ]
    }
   ],
   "source": [
    "# Replaced location with Mode values\n",
    "\n",
    "mode = df2['CustLocation'].mode() \n",
    "df2['CustLocation'] = df2['CustLocation'].fillna('Mumbai')\n",
    "print(f'Number of Missing Values : {df2.isnull().sum().sum()}')"
   ]
  },
  {
   "cell_type": "code",
   "execution_count": 27,
   "id": "d4b497b1",
   "metadata": {},
   "outputs": [],
   "source": [
    "# Create Age variable from Customer DOB\n",
    "\n",
    "year = pd.to_datetime(df2['CustomerDOB'], errors = 'coerce').dt.year.values \n",
    "age = 2023 - year\n",
    "age = age\n",
    "df2['age'] = age\n",
    "df2['age'] = df2['age'].abs()"
   ]
  },
  {
   "cell_type": "code",
   "execution_count": 28,
   "id": "17b7bd5e",
   "metadata": {},
   "outputs": [
    {
     "data": {
      "text/plain": [
       "3187"
      ]
     },
     "execution_count": 28,
     "metadata": {},
     "output_type": "execute_result"
    }
   ],
   "source": [
    "df2.isnull().sum().sum()"
   ]
  },
  {
   "cell_type": "code",
   "execution_count": 29,
   "id": "6b441493",
   "metadata": {},
   "outputs": [
    {
     "data": {
      "text/plain": [
       "0"
      ]
     },
     "execution_count": 29,
     "metadata": {},
     "output_type": "execute_result"
    }
   ],
   "source": [
    "df2.dropna(inplace=True)\n",
    "df2.drop('CustomerDOB', axis=1, inplace=True)\n",
    "df2.isnull().sum().sum()"
   ]
  },
  {
   "cell_type": "code",
   "execution_count": 30,
   "id": "1c2e8215",
   "metadata": {},
   "outputs": [
    {
     "data": {
      "text/plain": [
       "0"
      ]
     },
     "execution_count": 30,
     "metadata": {},
     "output_type": "execute_result"
    }
   ],
   "source": [
    "df2.reset_index(drop=True, inplace=True)\n",
    "df2.isnull().sum().sum()"
   ]
  },
  {
   "cell_type": "code",
   "execution_count": 31,
   "id": "8adb3cd7",
   "metadata": {},
   "outputs": [],
   "source": [
    "df = df2.copy()"
   ]
  },
  {
   "cell_type": "code",
   "execution_count": 32,
   "id": "bb28415f",
   "metadata": {},
   "outputs": [
    {
     "name": "stdout",
     "output_type": "stream",
     "text": [
      "Lower :-1311.5, Upper 2612.5\n"
     ]
    }
   ],
   "source": [
    "#mean transaction amount\n",
    "mean_trans = df['TransactionAmount (INR)'].mean()\n",
    "\n",
    "#quartile values in transaction amount\n",
    "q25, q75 = percentile(df['TransactionAmount (INR)'], 25), percentile(df['TransactionAmount (INR)'], 75)\n",
    "iqr = q75 - q25\n",
    "\n",
    "#cutoff values between 2nd and 3rd quartile into 1.5 times\n",
    "cutoff = iqr * 1.5\n",
    "\n",
    "#finding highest and lowest transaction values\n",
    "lower, upper = q25 - cutoff, q75 + cutoff\n",
    "print(f'Lower :{lower}, Upper {upper}')"
   ]
  },
  {
   "cell_type": "code",
   "execution_count": 33,
   "id": "3bc3d9e4",
   "metadata": {},
   "outputs": [
    {
     "data": {
      "text/plain": [
       "0"
      ]
     },
     "execution_count": 33,
     "metadata": {},
     "output_type": "execute_result"
    }
   ],
   "source": [
    "df.drop(df[df['TransactionAmount (INR)'] > upper].index, inplace=True)\n",
    "len(df[df['TransactionAmount (INR)']> upper])"
   ]
  },
  {
   "cell_type": "code",
   "execution_count": 34,
   "id": "c30f9f4b",
   "metadata": {},
   "outputs": [],
   "source": [
    "#mean account balance and finding cut off\n",
    "mean_acc = df['CustAccountBalance'].mean()\n",
    "q25, q75 = percentile(df['CustAccountBalance'], 25), percentile(df['CustAccountBalance'], 75)\n",
    "iqr = q75 - q25 \n",
    "cutoff = iqr * 1.5\n",
    "lower, upper = q25 - cutoff, q75 + cutoff"
   ]
  },
  {
   "cell_type": "code",
   "execution_count": 35,
   "id": "96d617d3",
   "metadata": {},
   "outputs": [
    {
     "data": {
      "text/plain": [
       "0"
      ]
     },
     "execution_count": 35,
     "metadata": {},
     "output_type": "execute_result"
    }
   ],
   "source": [
    "df.drop(df[df['CustAccountBalance'] > upper].index, inplace=True)\n",
    "len(df[df['CustAccountBalance']> upper])"
   ]
  },
  {
   "cell_type": "code",
   "execution_count": 36,
   "id": "0d72ef41",
   "metadata": {},
   "outputs": [
    {
     "data": {
      "text/plain": [
       "0"
      ]
     },
     "execution_count": 36,
     "metadata": {},
     "output_type": "execute_result"
    }
   ],
   "source": [
    "df['age'] = df['age'].abs()\n",
    "df.isnull().sum().sum()"
   ]
  },
  {
   "cell_type": "code",
   "execution_count": 47,
   "id": "28604082",
   "metadata": {},
   "outputs": [],
   "source": [
    "#EXPLORATORY DATA ANALYSIS\n",
    "\n",
    "# 1.How much is total transaction amount & total accountbalance amount ? (using table)\n",
    "# 2.What is sum, mean & median of transactions and account balance of customer transactions ? (using boxplot & histogram)\n",
    "# 3.What is the difference in account balance based on age and gender ? (using histogram)\n",
    "# 4.What is the difference in transaction based on age and gender? (using histogram)\n"
   ]
  },
  {
   "cell_type": "code",
   "execution_count": 51,
   "id": "4198a41e",
   "metadata": {},
   "outputs": [],
   "source": [
    "plt.style.use('fivethirtyeight')"
   ]
  },
  {
   "cell_type": "code",
   "execution_count": 49,
   "id": "f2369d98",
   "metadata": {},
   "outputs": [
    {
     "data": {
      "text/html": [
       "<div>\n",
       "<style scoped>\n",
       "    .dataframe tbody tr th:only-of-type {\n",
       "        vertical-align: middle;\n",
       "    }\n",
       "\n",
       "    .dataframe tbody tr th {\n",
       "        vertical-align: top;\n",
       "    }\n",
       "\n",
       "    .dataframe thead th {\n",
       "        text-align: right;\n",
       "    }\n",
       "</style>\n",
       "<table border=\"1\" class=\"dataframe\">\n",
       "  <thead>\n",
       "    <tr style=\"text-align: right;\">\n",
       "      <th></th>\n",
       "      <th>count</th>\n",
       "      <th>mean</th>\n",
       "      <th>std</th>\n",
       "      <th>min</th>\n",
       "      <th>25%</th>\n",
       "      <th>50%</th>\n",
       "      <th>75%</th>\n",
       "      <th>max</th>\n",
       "    </tr>\n",
       "  </thead>\n",
       "  <tbody>\n",
       "    <tr>\n",
       "      <th>CustAccountBalance</th>\n",
       "      <td>811641.0</td>\n",
       "      <td>22008.401518</td>\n",
       "      <td>26537.669276</td>\n",
       "      <td>0.0</td>\n",
       "      <td>3340.33</td>\n",
       "      <td>11555.06</td>\n",
       "      <td>30109.84</td>\n",
       "      <td>119750.78</td>\n",
       "    </tr>\n",
       "    <tr>\n",
       "      <th>TransactionAmount (INR)</th>\n",
       "      <td>811641.0</td>\n",
       "      <td>563.468495</td>\n",
       "      <td>604.569835</td>\n",
       "      <td>0.0</td>\n",
       "      <td>120.00</td>\n",
       "      <td>320.00</td>\n",
       "      <td>799.56</td>\n",
       "      <td>2760.00</td>\n",
       "    </tr>\n",
       "  </tbody>\n",
       "</table>\n",
       "</div>"
      ],
      "text/plain": [
       "                            count          mean           std  min      25%  \\\n",
       "CustAccountBalance       811641.0  22008.401518  26537.669276  0.0  3340.33   \n",
       "TransactionAmount (INR)  811641.0    563.468495    604.569835  0.0   120.00   \n",
       "\n",
       "                              50%       75%        max  \n",
       "CustAccountBalance       11555.06  30109.84  119750.78  \n",
       "TransactionAmount (INR)    320.00    799.56    2760.00  "
      ]
     },
     "execution_count": 49,
     "metadata": {},
     "output_type": "execute_result"
    }
   ],
   "source": [
    "#Q1\n",
    "\n",
    "tot_trans = sum(round(df['TransactionAmount (INR)'], 2))\n",
    "tot_acc = sum(round(df['CustAccountBalance'], 2))\n",
    "finan_series = pd.Series({'Total Transactions' : tot_trans, 'Total Account' : tot_acc})\n",
    "finan_report = pd.DataFrame({'Total Transactions' : finan_series[0], 'Total Account Balance' : finan_series[1]}, index = [0])\n",
    "\n",
    "df[['CustAccountBalance', 'TransactionAmount (INR)']].describe().T"
   ]
  },
  {
   "cell_type": "code",
   "execution_count": 56,
   "id": "b5601ece",
   "metadata": {},
   "outputs": [
    {
     "data": {
      "image/png": "[encoded data removed]",
      "text/plain": [
       "<Figure size 1296x576 with 4 Axes>"
      ]
     },
     "metadata": {},
     "output_type": "display_data"
    }
   ],
   "source": [
    "# Q2\n",
    "fig, ax = plt.subplots(2, 2, figsize = (18,8))\n",
    "\n",
    "# Set the main title of the figure\n",
    "plt.suptitle('AccountBalance & Transactions In 2016', size = 18)\n",
    "\n",
    "ax[0,0] = sns.histplot(df[0:100], x='CustAccountBalance', ax=ax[0,0], kde = True)\n",
    "ax[1,0] = sns.histplot(df[0:100], x='TransactionAmount (INR)', ax=ax[1,0], kde = True)\n",
    "\n",
    "# Show the figure\n",
    "plt.show()"
   ]
  },
  {
   "cell_type": "code",
   "execution_count": 61,
   "id": "ab203480",
   "metadata": {},
   "outputs": [
    {
     "data": {
      "image/png": "[encoded data removed]",
      "text/plain": [
       "<Figure size 1296x576 with 2 Axes>"
      ]
     },
     "metadata": {},
     "output_type": "display_data"
    }
   ],
   "source": [
    "# Q3\n",
    "fig, ax = plt.subplots(1,2, figsize = (18,8))\n",
    "\n",
    "# Set the main title of the figure\n",
    "plt.suptitle('Transactions Based on Demographics', size = 18)\n",
    "\n",
    "ax[0] = sns.histplot(df[0:100], x='TransactionAmount (INR)', ax = ax[0],kde = True, hue ='CustGender')\n",
    "\n",
    "# Show the figure\n",
    "plt.show()"
   ]
  },
  {
   "cell_type": "code",
   "execution_count": 62,
   "id": "e1074388",
   "metadata": {
    "scrolled": true
   },
   "outputs": [
    {
     "name": "stdout",
     "output_type": "stream",
     "text": [
      "<class 'pandas.core.frame.DataFrame'>\n",
      "Int64Index: 811641 entries, 0 to 1044132\n",
      "Data columns (total 9 columns):\n",
      " #   Column                   Non-Null Count   Dtype  \n",
      "---  ------                   --------------   -----  \n",
      " 0   TransactionID            811641 non-null  object \n",
      " 1   CustomerID               811641 non-null  object \n",
      " 2   CustGender               811641 non-null  object \n",
      " 3   CustLocation             811641 non-null  object \n",
      " 4   CustAccountBalance       811641 non-null  float64\n",
      " 5   TransactionDate          811641 non-null  object \n",
      " 6   TransactionTime          811641 non-null  int64  \n",
      " 7   TransactionAmount (INR)  811641 non-null  float64\n",
      " 8   age                      811641 non-null  float64\n",
      "dtypes: float64(3), int64(1), object(5)\n",
      "memory usage: 61.9+ MB\n"
     ]
    }
   ],
   "source": [
    "df.info()"
   ]
  },
  {
   "cell_type": "code",
   "execution_count": 87,
   "id": "00f3cbd2",
   "metadata": {},
   "outputs": [],
   "source": [
    "#Data Preprocessing"
   ]
  },
  {
   "cell_type": "code",
   "execution_count": 37,
   "id": "568f24f4",
   "metadata": {},
   "outputs": [],
   "source": [
    "df2 = df.copy()\n",
    "from sklearn.preprocessing import StandardScaler\n",
    "\n",
    "colnames = df2.columns \n",
    "num_columns = df2.select_dtypes(include=['float', 'int']).columns \n",
    "df2[num_columns] = StandardScaler().fit_transform(df2[num_columns])\n",
    "X = df[['CustAccountBalance', 'TransactionAmount (INR)']]"
   ]
  },
  {
   "cell_type": "markdown",
   "id": "8a7ad3c9",
   "metadata": {},
   "source": []
  },
  {
   "cell_type": "code",
   "execution_count": 38,
   "id": "9bbcae8d",
   "metadata": {},
   "outputs": [
    {
     "data": {
      "image/png": "[encoded data removed]",
      "text/plain": [
       "<Figure size 432x432 with 1 Axes>"
      ]
     },
     "metadata": {
      "needs_background": "light"
     },
     "output_type": "display_data"
    }
   ],
   "source": [
    "#ELBOW METHOD\n",
    "\n",
    "from sklearn.cluster import KMeans\n",
    "wcss = []\n",
    "\n",
    "for i in range(1, 15):\n",
    "    kmeans = KMeans(n_clusters = i, init = 'k-means++', random_state=42)\n",
    "    kmeans.fit(X)\n",
    "    wcss.append(kmeans.inertia_)\n",
    "fig, ax = plt.subplots(figsize = (6,6))\n",
    "    \n",
    "plt.plot(range(1,15), wcss)\n",
    "\n",
    "plt.title('Elbow Method for Optimum K Values on Bank Dataset')\n",
    "\n",
    "plt.show()"
   ]
  },
  {
   "cell_type": "code",
   "execution_count": null,
   "id": "50d57a68",
   "metadata": {},
   "outputs": [],
   "source": [
    "#from graph it can be seen optimum k is k = 3"
   ]
  },
  {
   "cell_type": "code",
   "execution_count": 39,
   "id": "d643a974",
   "metadata": {},
   "outputs": [],
   "source": [
    "#Using K means clustering for unsupervised learning \n",
    "\n",
    "kmeans = KMeans(n_clusters = 3, init = 'k-means++', random_state=42)\n",
    "y_kmeans = kmeans.fit_predict(X)\n",
    "\n",
    "X['cluster'] = y_kmeans\n",
    "X1 = X[X['cluster'] == 0]\n",
    "X2 = X[X['cluster'] == 1]\n",
    "X3 = X[X['cluster'] == 2]"
   ]
  },
  {
   "cell_type": "code",
   "execution_count": 40,
   "id": "f3a2856f",
   "metadata": {},
   "outputs": [
    {
     "data": {
      "image/png": "[encoded data removed]",
      "text/plain": [
       "<Figure size 432x432 with 1 Axes>"
      ]
     },
     "metadata": {
      "needs_background": "light"
     },
     "output_type": "display_data"
    }
   ],
   "source": [
    "fig, ax = plt.subplots(figsize = (6,6))\n",
    "\n",
    "plt.title(\"Bank's Customer Segmentation\")\n",
    "\n",
    "plt.scatter(X1.iloc[:,0], X1.iloc[:, 1], label = 'cluster 1', alpha = 0.3)\n",
    "plt.scatter(X2.iloc[:,0], X2.iloc[:, 1], label = 'cluster 2', alpha = 0.3)\n",
    "plt.scatter(X3.iloc[:,0], X3.iloc[:, 1], label = 'cluster 3', alpha = 0.3)\n",
    "plt.scatter(kmeans.cluster_centers_[:, 0], kmeans.cluster_centers_[:, 1], color = 'red', \n",
    "           label = 'Centroid', s= 60)\n",
    "\n",
    "plt.legend()\n",
    "plt.show()"
   ]
  },
  {
   "cell_type": "code",
   "execution_count": 41,
   "id": "949be786",
   "metadata": {},
   "outputs": [],
   "source": [
    "df['Cluster'] = X['cluster']"
   ]
  },
  {
   "cell_type": "code",
   "execution_count": 42,
   "id": "9aeeb37e",
   "metadata": {},
   "outputs": [],
   "source": [
    "clust_count = df['Cluster'].value_counts()"
   ]
  },
  {
   "cell_type": "code",
   "execution_count": 43,
   "id": "d96757af",
   "metadata": {},
   "outputs": [
    {
     "data": {
      "image/png": "[encoded data removed]",
      "text/plain": [
       "<Figure size 432x432 with 1 Axes>"
      ]
     },
     "metadata": {
      "needs_background": "light"
     },
     "output_type": "display_data"
    }
   ],
   "source": [
    "fig, ax = plt.subplots(figsize = (6,6))\n",
    "\n",
    "plt.title(\"Bank's Customer Cluster\")\n",
    "\n",
    "ax = sns.barplot(x = clust_count.index, y = clust_count.values)\n",
    "\n",
    "for p in ax.patches:\n",
    "    ax.annotate(format(p.get_height(), '.0f'), \n",
    "                (p.get_x() + p.get_width() / 2., p.get_height()), \n",
    "                ha = 'center', va = 'center', \n",
    "                xytext = (0, 10), \n",
    "                textcoords = 'offset points')\n",
    "\n",
    "plt.show()"
   ]
  },
  {
   "cell_type": "code",
   "execution_count": 44,
   "id": "f42b6727",
   "metadata": {},
   "outputs": [],
   "source": [
    "clust1 = df[df['Cluster'] == 0]\n",
    "clust2 = df[df['Cluster'] == 1]\n",
    "clust3 = df[df['Cluster'] == 2]"
   ]
  },
  {
   "cell_type": "code",
   "execution_count": 45,
   "id": "4b76d66e",
   "metadata": {},
   "outputs": [
    {
     "data": {
      "text/plain": [
       "Text(0.5, 1.0, 'Top 20 Cities')"
      ]
     },
     "execution_count": 45,
     "metadata": {},
     "output_type": "execute_result"
    },
    {
     "data": {
      "image/png": "[encoded data removed]",
      "text/plain": [
       "<Figure size 1296x576 with 3 Axes>"
      ]
     },
     "metadata": {
      "needs_background": "light"
     },
     "output_type": "display_data"
    }
   ],
   "source": [
    "# identify cluster1\n",
    "fig, ax = plt.subplots(2, 2, figsize = (18,8))\n",
    "bins = [15, 20, 25, 30, 35, 40, 45, 50, 55, 60]\n",
    "\n",
    "grid_shape = (2, 2)\n",
    "\n",
    "plt.suptitle(\"Cluster 1 Demography\", size = 25)\n",
    "\n",
    "ax1 = plt.subplot2grid(grid_shape, (0, 0))\n",
    "ax1 = sns.barplot(x=clust1['CustGender'].value_counts().index, y = clust1['CustGender'].value_counts().values)\n",
    "ax1.set_title('Gender')\n",
    "\n",
    "ax2 = plt.subplot2grid(grid_shape, (0, 1))\n",
    "ax2 = sns.histplot(clust1['age'], bins = bins)\n",
    "ax2.set_title('Age')\n",
    "\n",
    "ax3 = plt.subplot2grid(grid_shape, (1, 0), colspan=2)\n",
    "ax3 = sns.barplot(x=clust1['CustLocation'].value_counts()[0:20].index, y = clust1['CustLocation'].value_counts()[0:20].values)\n",
    "ax3.set_title('Top 20 Cities')"
   ]
  },
  {
   "cell_type": "code",
   "execution_count": 46,
   "id": "5af98831",
   "metadata": {},
   "outputs": [
    {
     "data": {
      "text/plain": [
       "[Text(0, 0, 'MUMBAI'),\n",
       " Text(1, 0, 'BANGALORE'),\n",
       " Text(2, 0, 'NEW DELHI'),\n",
       " Text(3, 0, 'GURGAON'),\n",
       " Text(4, 0, 'DELHI'),\n",
       " Text(5, 0, 'NOIDA'),\n",
       " Text(6, 0, 'CHENNAI'),\n",
       " Text(7, 0, 'PUNE'),\n",
       " Text(8, 0, 'THANE'),\n",
       " Text(9, 0, 'HYDERABAD'),\n",
       " Text(10, 0, 'KOLKATA'),\n",
       " Text(11, 0, 'GHAZIABAD'),\n",
       " Text(12, 0, 'AHMEDABAD'),\n",
       " Text(13, 0, 'NAVI MUMBAI'),\n",
       " Text(14, 0, 'FARIDABAD'),\n",
       " Text(15, 0, 'CHANDIGARH'),\n",
       " Text(16, 0, 'JAIPUR'),\n",
       " Text(17, 0, 'LUCKNOW'),\n",
       " Text(18, 0, 'SURAT'),\n",
       " Text(19, 0, 'MOHALI')]"
      ]
     },
     "execution_count": 46,
     "metadata": {},
     "output_type": "execute_result"
    }
   ],
   "source": [
    "for p in ax1.patches:\n",
    "    ax1.annotate(format(p.get_height(), '.0f'), \n",
    "                (p.get_x() + p.get_width() / 2., p.get_height()), \n",
    "                ha = 'center', va = 'center', \n",
    "                xytext = (0, 10), \n",
    "                textcoords = 'offset points')\n",
    "    \n",
    "for p in ax2.patches:\n",
    "    ax2.annotate(format(p.get_height(), '.0f'), \n",
    "                (p.get_x() + p.get_width() / 2., p.get_height()), \n",
    "                ha = 'center', va = 'center', \n",
    "                xytext = (0, 10), \n",
    "                textcoords = 'offset points')\n",
    "    \n",
    "for p in ax3.patches:\n",
    "    ax3.annotate(format(p.get_height(), '.0f'), \n",
    "                (p.get_x() + p.get_width() / 2., p.get_height()), \n",
    "                ha = 'center', va = 'center', \n",
    "                xytext = (0, 10), \n",
    "                textcoords = 'offset points')\n",
    "\n",
    "ax3.set_xticklabels(clust1['CustLocation'].value_counts()[0:20].index, rotation=90)"
   ]
  },
  {
   "cell_type": "code",
   "execution_count": 47,
   "id": "d9f2bac5",
   "metadata": {},
   "outputs": [
    {
     "data": {
      "text/plain": [
       "Text(0.5, 1.0, 'Top 20 Cities')"
      ]
     },
     "execution_count": 47,
     "metadata": {},
     "output_type": "execute_result"
    },
    {
     "data": {
      "image/png": "[encoded data removed]",
      "text/plain": [
       "<Figure size 1296x576 with 3 Axes>"
      ]
     },
     "metadata": {
      "needs_background": "light"
     },
     "output_type": "display_data"
    }
   ],
   "source": [
    "# identify cluster3\n",
    "fig, ax = plt.subplots(2, 2, figsize = (18,8))\n",
    "bins = [15, 20, 25, 30, 35, 40, 45, 50, 55, 60]\n",
    "\n",
    "grid_shape = (2, 2)\n",
    "\n",
    "plt.suptitle(\"Cluster 3 Demography\", size = 25)\n",
    "\n",
    "ax1 = plt.subplot2grid(grid_shape, (0, 0))\n",
    "ax1 = sns.barplot(x=clust3['CustGender'].value_counts().index, y = clust3['CustGender'].value_counts().values)\n",
    "ax1.set_title('Gender')\n",
    "\n",
    "ax2 = plt.subplot2grid(grid_shape, (0, 1))\n",
    "ax2 = sns.histplot(clust3['age'], bins = bins)\n",
    "ax2.set_title('Age')\n",
    "\n",
    "ax3 = plt.subplot2grid(grid_shape, (1, 0), colspan=2)\n",
    "ax3 = sns.barplot(x=clust3['CustLocation'].value_counts()[0:20].index, y = clust3['CustLocation'].value_counts()[0:20].values)\n",
    "ax3.set_title('Top 20 Cities')\n"
   ]
  },
  {
   "cell_type": "code",
   "execution_count": 48,
   "id": "0a95dffe",
   "metadata": {},
   "outputs": [
    {
     "data": {
      "text/plain": [
       "[Text(0, 0, 'MUMBAI'),\n",
       " Text(1, 0, 'BANGALORE'),\n",
       " Text(2, 0, 'NEW DELHI'),\n",
       " Text(3, 0, 'GURGAON'),\n",
       " Text(4, 0, 'DELHI'),\n",
       " Text(5, 0, 'NOIDA'),\n",
       " Text(6, 0, 'CHENNAI'),\n",
       " Text(7, 0, 'PUNE'),\n",
       " Text(8, 0, 'THANE'),\n",
       " Text(9, 0, 'HYDERABAD'),\n",
       " Text(10, 0, 'KOLKATA'),\n",
       " Text(11, 0, 'GHAZIABAD'),\n",
       " Text(12, 0, 'AHMEDABAD'),\n",
       " Text(13, 0, 'NAVI MUMBAI'),\n",
       " Text(14, 0, 'FARIDABAD'),\n",
       " Text(15, 0, 'CHANDIGARH'),\n",
       " Text(16, 0, 'JAIPUR'),\n",
       " Text(17, 0, 'LUCKNOW'),\n",
       " Text(18, 0, 'SURAT'),\n",
       " Text(19, 0, 'MOHALI')]"
      ]
     },
     "execution_count": 48,
     "metadata": {},
     "output_type": "execute_result"
    }
   ],
   "source": [
    "# identify cluster3\n",
    "\n",
    "for p in ax1.patches:\n",
    "    ax1.annotate(format(p.get_height(), '.0f'), \n",
    "                (p.get_x() + p.get_width() / 2., p.get_height()), \n",
    "                ha = 'center', va = 'center', \n",
    "                xytext = (0, 10), \n",
    "                textcoords = 'offset points')\n",
    "    \n",
    "for p in ax2.patches:\n",
    "    ax2.annotate(format(p.get_height(), '.0f'), \n",
    "                (p.get_x() + p.get_width() / 2., p.get_height()), \n",
    "                ha = 'center', va = 'center', \n",
    "                xytext = (0, 10), \n",
    "                textcoords = 'offset points')\n",
    "    \n",
    "for p in ax3.patches:\n",
    "    ax3.annotate(format(p.get_height(), '.0f'), \n",
    "                (p.get_x() + p.get_width() / 2., p.get_height()), \n",
    "                ha = 'center', va = 'center', \n",
    "                xytext = (0, 10), \n",
    "                textcoords = 'offset points')\n",
    "\n",
    "ax3.set_xticklabels(clust1['CustLocation'].value_counts()[0:20].index, rotation=90)"
   ]
  },
  {
   "cell_type": "code",
   "execution_count": null,
   "id": "81bc4ba8",
   "metadata": {},
   "outputs": [],
   "source": [
    "# Bank X has 3 different group of customers. Which if clusterized into different group using resulting a customer group which has similar transaction amount, but has significant different from account balance as following :\n",
    "# Cluster 1 = Low account balance\n",
    "# Cluster 2 = Medium account balance\n",
    "# Cluster 3 = high account balance\n",
    "# Further analysis by demographics, there is not much differentiation from gender and location except by age group. Specifically on Young cusomters (20 - 25 year old). Where :\n",
    "# Cluster 1 = Has a moderate number of young customer compared to cluster 1 & cluster 3\n",
    "# Cluster 2 = Has a lowest number of young customer compared to cluster 1 & cluster 3\n",
    "# Cluster 3 = Has a highest number of young customer compared to cluster 1 & cluster 3"
   ]
  }
 ],
 "metadata": {
  "kernelspec": {
   "display_name": "Python 3 (ipykernel)",
   "language": "python",
   "name": "python3"
  },
  "language_info": {
   "codemirror_mode": {
    "name": "ipython",
    "version": 3
   },
   "file_extension": ".py",
   "mimetype": "text/x-python",
   "name": "python",
   "nbconvert_exporter": "python",
   "pygments_lexer": "ipython3",
   "version": "3.9.12"
  }
 },
 "nbformat": 4,
 "nbformat_minor": 5
}
